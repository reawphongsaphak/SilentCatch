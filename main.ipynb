{
 "cells": [
  {
   "cell_type": "code",
   "execution_count": 3,
   "metadata": {},
   "outputs": [],
   "source": [
    "import numpy as np\n",
    "import matplotlib.pyplot as plt\n",
    "import soundfile as sf\n",
    "import librosa\n",
    "import os"
   ]
  },
  {
   "cell_type": "code",
   "execution_count": 4,
   "metadata": {},
   "outputs": [],
   "source": [
    "def plot_signal(s, sr, title=\"Signal\", ax=None):\n",
    "    if ax is None:\n",
    "        _, ax = plt.subplots()\n",
    "\n",
    "    t = np.arange(0, len(s) / sr, 1 / sr)\n",
    "\n",
    "    ax.plot(t, s)\n",
    "    ax.set_xlabel(\"Time [s]\")\n",
    "    ax.set_ylabel(\"Amplitude\")\n",
    "    ax.set_title(title)\n",
    "\n",
    "    return ax\n",
    "\n",
    "def plot_mel_spectrogram(s, sr, ax=None, title=\"Mel-frequency spectrogram\"):\n",
    "    if ax is None:\n",
    "        _, ax = plt.subplots()\n",
    "\n",
    "    S = librosa.feature.melspectrogram(\n",
    "        y=s, sr=sr, n_mels=64, hop_length=64, fmax=8000\n",
    "    )\n",
    "    S_dB = librosa.power_to_db(S, ref=np.max)\n",
    "\n",
    "    img = librosa.display.specshow(\n",
    "        S_dB, x_axis=\"time\", y_axis=\"mel\", sr=sr, fmax=8000, ax=ax\n",
    "    )\n",
    "    ax.set(title=title)\n",
    "    return img\n",
    "\n",
    "def reduce_noise(y, sr,  output_path, noise_t=0.5):\n",
    "    n_fft = 512\n",
    "    hop_length = 64\n",
    "    D = librosa.stft(y, n_fft=n_fft, hop_length=hop_length)\n",
    "    magnitude, phase = np.abs(D), np.angle(D)\n",
    "\n",
    "    noise_frames = magnitude[:, :int(noise_t * sr / hop_length)]\n",
    "    noise_profile = np.mean(noise_frames, axis=1, keepdims=True)\n",
    "    mask = magnitude / (magnitude + noise_profile + 2)\n",
    "    S_clean = mask * magnitude * np.exp(1j * phase)\n",
    "\n",
    "    y_clean = librosa.istft(S_clean, hop_length=hop_length)\n",
    "    sf.write(output_path, y_clean, sr)\n",
    "\n",
    "def get_noise(clean_path, noisy_path, output_path):\n",
    "    clean, sr = sf.read(clean_path)\n",
    "    noisy, _ = sf.read(noisy_path)\n",
    "\n",
    "    min_len = min(len(clean), len(noisy))\n",
    "    clean = clean[:min_len]\n",
    "    noisy = noisy[:min_len]\n",
    "\n",
    "    alpha = np.dot(noisy, clean) / np.dot(clean, clean)\n",
    "    print(f\"Scaling factor alpha: {alpha:.4f}\")\n",
    "\n",
    "    clean_scaled = alpha * clean\n",
    "\n",
    "    noise = noisy - clean_scaled\n",
    "    sf.write(output_path, noise, sr)"
   ]
  },
  {
   "cell_type": "code",
   "execution_count": 5,
   "metadata": {},
   "outputs": [],
   "source": [
    "file_name = \"p226_008.wav\"\n",
    "\n",
    "signal_path = os.path.join(\"data\", \"noisy\", file_name)\n",
    "output_clean_path = os.path.join(\"data\", \"clean_test\", file_name)\n",
    "output_noise_path = os.path.join(\"data\", \"noise_test\", file_name)"
   ]
  },
  {
   "cell_type": "code",
   "execution_count": 6,
   "metadata": {},
   "outputs": [
    {
     "name": "stdout",
     "output_type": "stream",
     "text": [
      "Scaling factor alpha: 1.2119\n",
      "Scaling factor alpha: 1.5150\n",
      "Scaling factor alpha: 1.3456\n",
      "Scaling factor alpha: 1.3830\n",
      "Scaling factor alpha: 1.3426\n"
     ]
    }
   ],
   "source": [
    "files = [\"p226_001.wav\", \"p226_003.wav\",\"p226_005.wav\", \"p226_007.wav\", \"p226_009.wav\"]\n",
    "for file_name in files:\n",
    "    signal_path = os.path.join(\"data\", \"noisy\", file_name)\n",
    "    output_clean_path = os.path.join(\"data\", \"clean_test\", file_name)\n",
    "    output_noise_path = os.path.join(\"data\", \"noise_test\", file_name)\n",
    "    s, sr_s = sf.read(signal_path)\n",
    "    reduce_noise(s, sr_s, noise_t=0.5, output_path=output_clean_path)\n",
    "    get_noise(clean_path=output_clean_path, noisy_path=signal_path , output_path=output_noise_path)"
   ]
  }
 ],
 "metadata": {
  "kernelspec": {
   "display_name": "Python 3",
   "language": "python",
   "name": "python3"
  },
  "language_info": {
   "codemirror_mode": {
    "name": "ipython",
    "version": 3
   },
   "file_extension": ".py",
   "mimetype": "text/x-python",
   "name": "python",
   "nbconvert_exporter": "python",
   "pygments_lexer": "ipython3",
   "version": "3.11.7"
  },
  "orig_nbformat": 4
 },
 "nbformat": 4,
 "nbformat_minor": 2
}

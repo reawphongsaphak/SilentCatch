{
 "cells": [
  {
   "cell_type": "markdown",
   "id": "51d7aedd",
   "metadata": {},
   "source": [
    "## **Measurement**"
   ]
  },
  {
   "cell_type": "code",
   "execution_count": 1,
   "id": "4116d891",
   "metadata": {},
   "outputs": [],
   "source": [
    "import os\n",
    "import soundfile as sf\n",
    "import numpy as np\n",
    "files = [\"p226_001.wav\", \"p226_003.wav\",\"p226_005.wav\", \"p226_007.wav\", \"p226_009.wav\"]"
   ]
  },
  {
   "cell_type": "markdown",
   "id": "13d42fcd",
   "metadata": {},
   "source": [
    "## **Environment**"
   ]
  },
  {
   "cell_type": "markdown",
   "id": "fd796100",
   "metadata": {},
   "source": [
    "### **MAE**"
   ]
  },
  {
   "cell_type": "code",
   "execution_count": 2,
   "id": "0d25e5eb",
   "metadata": {},
   "outputs": [
    {
     "name": "stdout",
     "output_type": "stream",
     "text": [
      "MAE of p226_001.wav: 0.01\n",
      "MAE of p226_003.wav: 0.02\n",
      "MAE of p226_005.wav: 0.01\n",
      "MAE of p226_007.wav: 0.03\n",
      "MAE of p226_009.wav: 0.01\n"
     ]
    }
   ],
   "source": [
    "for file_name in files:\n",
    "    original_path = os.path.join(\"data\", \"noise\", file_name)\n",
    "    output_path = os.path.join(\"data\", \"noise_test\", file_name)\n",
    "\n",
    "    original, _ = sf.read(original_path)\n",
    "    output, _ = sf.read(output_path)\n",
    "\n",
    "    min_len = min(len(original), len(output))\n",
    "    original = original[:min_len]\n",
    "    output = output[:min_len]\n",
    "\n",
    "    noise = output - original\n",
    "    MAE = sum(abs(noise - output)) / len(noise)\n",
    "    print(f\"MAE of {file_name}: {MAE:.2f}\")"
   ]
  },
  {
   "cell_type": "markdown",
   "id": "d5742274",
   "metadata": {},
   "source": [
    "### **SNR**"
   ]
  },
  {
   "cell_type": "code",
   "execution_count": 3,
   "id": "48243b9d",
   "metadata": {},
   "outputs": [
    {
     "name": "stdout",
     "output_type": "stream",
     "text": [
      "SNR of p226_001.wav: 0.59 dB\n",
      "SNR of p226_003.wav: 1.53 dB\n",
      "SNR of p226_005.wav: -1.80 dB\n",
      "SNR of p226_007.wav: 0.70 dB\n",
      "SNR of p226_009.wav: -1.29 dB\n"
     ]
    }
   ],
   "source": [
    "for file_name in files:\n",
    "    original_path = os.path.join(\"data\", \"noise\", file_name)\n",
    "    output_path = os.path.join(\"data\", \"noise_test\", file_name)\n",
    "\n",
    "    #* assume that the original noise is original signal\n",
    "    #* and the output is the estimated original signal\n",
    "    \n",
    "    original, _ = sf.read(original_path)\n",
    "    output, _ = sf.read(output_path)\n",
    "\n",
    "    min_len = min(len(original), len(output))\n",
    "    original = original[:min_len]\n",
    "    output = output[:min_len]\n",
    "\n",
    "    noise = output - original\n",
    "    \n",
    "    power_signal = np.mean(original ** 2)\n",
    "    power_noise = np.mean(noise ** 2)\n",
    "\n",
    "    snr = power_signal / power_noise\n",
    "    snr_db = 10 * np.log10(snr)\n",
    "    print(f\"SNR of {file_name}: {snr_db:.2f} dB\")"
   ]
  },
  {
   "cell_type": "markdown",
   "id": "b66d6632",
   "metadata": {},
   "source": [
    "## **Main**"
   ]
  },
  {
   "cell_type": "markdown",
   "id": "8b6601b0",
   "metadata": {},
   "source": [
    "### **MAE**"
   ]
  },
  {
   "cell_type": "code",
   "execution_count": 4,
   "id": "01679417",
   "metadata": {},
   "outputs": [
    {
     "name": "stdout",
     "output_type": "stream",
     "text": [
      "MAE of p226_001.wav: 0.03\n",
      "MAE of p226_003.wav: 0.03\n",
      "MAE of p226_005.wav: 0.03\n",
      "MAE of p226_007.wav: 0.04\n",
      "MAE of p226_009.wav: 0.03\n"
     ]
    }
   ],
   "source": [
    "for file_name in files:\n",
    "    original_path = os.path.join(\"data\", \"clean\", file_name)\n",
    "    output_path = os.path.join(\"data\", \"clean_test\", file_name)\n",
    "\n",
    "    original, _ = sf.read(original_path)\n",
    "    output, _ = sf.read(output_path)\n",
    "\n",
    "    min_len = min(len(original), len(output))\n",
    "    original = original[:min_len]\n",
    "    output = output[:min_len]\n",
    "\n",
    "    noise = output - original\n",
    "    MAE = sum(abs(noise - output)) / len(noise)\n",
    "    print(f\"MAE of {file_name}: {MAE:.2f}\")"
   ]
  },
  {
   "cell_type": "markdown",
   "id": "5f7e118e",
   "metadata": {},
   "source": [
    "### **SNR**"
   ]
  },
  {
   "cell_type": "code",
   "execution_count": 5,
   "id": "881880ec",
   "metadata": {},
   "outputs": [
    {
     "name": "stdout",
     "output_type": "stream",
     "text": [
      "SNR of p226_001.wav: 11.42 dB\n",
      "SNR of p226_003.wav: 6.36 dB\n",
      "SNR of p226_005.wav: 9.50 dB\n",
      "SNR of p226_007.wav: 5.97 dB\n",
      "SNR of p226_009.wav: 9.80 dB\n"
     ]
    }
   ],
   "source": [
    "for file_name in files:\n",
    "    original_path = os.path.join(\"data\", \"clean\", file_name)\n",
    "    output_path = os.path.join(\"data\", \"clean_test\", file_name)\n",
    "\n",
    "    #* assume that the original noise is original signal\n",
    "    #* and the output is the estimated original signal\n",
    "    \n",
    "    original, _ = sf.read(original_path)\n",
    "    output, _ = sf.read(output_path)\n",
    "\n",
    "    min_len = min(len(original), len(output))\n",
    "    original = original[:min_len]\n",
    "    output = output[:min_len]\n",
    "\n",
    "    noise = output - original\n",
    "    \n",
    "    power_signal = np.mean(original ** 2)\n",
    "    power_noise = np.mean(noise ** 2)\n",
    "\n",
    "    snr = power_signal / power_noise\n",
    "    snr_db = 10 * np.log10(snr)\n",
    "    print(f\"SNR of {file_name}: {snr_db:.2f} dB\")"
   ]
  }
 ],
 "metadata": {
  "kernelspec": {
   "display_name": "Python 3",
   "language": "python",
   "name": "python3"
  },
  "language_info": {
   "codemirror_mode": {
    "name": "ipython",
    "version": 3
   },
   "file_extension": ".py",
   "mimetype": "text/x-python",
   "name": "python",
   "nbconvert_exporter": "python",
   "pygments_lexer": "ipython3",
   "version": "3.11.7"
  }
 },
 "nbformat": 4,
 "nbformat_minor": 5
}
